{
 "cells": [
  {
   "cell_type": "code",
   "execution_count": 1,
   "metadata": {},
   "outputs": [],
   "source": [
    "current_allocations = {'SPY': 0.55, 'BND': 0.45}\n",
    "target_allocations = {'SPY': 0.5, 'BND': 0.5}\n",
    "\n",
    "# Define your rebalance threshold\n",
    "rebalance_threshold = 0.05\n",
    "\n",
    "# Calculate the differences\n",
    "differences = {asset: abs(current - target) \n",
    "               for asset, current in current_allocations.items()\n",
    "               for asset_target, target in target_allocations.items()\n",
    "               if asset == asset_target}"
   ]
  },
  {
   "cell_type": "code",
   "execution_count": 2,
   "metadata": {},
   "outputs": [
    {
     "data": {
      "text/plain": [
       "{'SPY': 0.050000000000000044, 'BND': 0.04999999999999999}"
      ]
     },
     "execution_count": 2,
     "metadata": {},
     "output_type": "execute_result"
    }
   ],
   "source": []
  }
 ],
 "metadata": {
  "kernelspec": {
   "display_name": "Python 3",
   "language": "python",
   "name": "python3"
  },
  "language_info": {
   "codemirror_mode": {
    "name": "ipython",
    "version": 3
   },
   "file_extension": ".py",
   "mimetype": "text/x-python",
   "name": "python",
   "nbconvert_exporter": "python",
   "pygments_lexer": "ipython3",
   "version": "3.11.4"
  },
  "orig_nbformat": 4
 },
 "nbformat": 4,
 "nbformat_minor": 2
}
